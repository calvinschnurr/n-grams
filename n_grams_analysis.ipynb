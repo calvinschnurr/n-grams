{
  "nbformat": 4,
  "nbformat_minor": 0,
  "metadata": {
    "colab": {
      "provenance": []
    },
    "kernelspec": {
      "name": "python3",
      "display_name": "Python 3"
    },
    "language_info": {
      "name": "python"
    }
  },
  "cells": [
    {
      "cell_type": "markdown",
      "source": [
        "**Authentification**"
      ],
      "metadata": {
        "id": "g1Bugc7o5im3"
      }
    },
    {
      "cell_type": "code",
      "execution_count": 1,
      "metadata": {
        "id": "NVB3GKhcSOC7"
      },
      "outputs": [],
      "source": [
        "from google.colab import auth\n",
        "import gspread\n",
        "from google.auth import default\n",
        "\n",
        "#authenticating to google\n",
        "auth.authenticate_user()\n",
        "creds, _ = default()\n",
        "gc = gspread.authorize(creds)"
      ]
    },
    {
      "cell_type": "markdown",
      "source": [
        "**Import Google Sheet**"
      ],
      "metadata": {
        "id": "B8-vRCJZbU_p"
      }
    },
    {
      "cell_type": "code",
      "source": [
        "import pandas as pd\n",
        "from sklearn.feature_extraction.text import CountVectorizer\n",
        "\n",
        "worksheet = gc.open(\"Google Sheets File Name\").sheet1 #insert Google Sheet file name\n",
        "\n",
        "#get_all_values gives a list of rows\n",
        "rows = worksheet.get_all_values()\n",
        "search_terms = pd.DataFrame(rows)\n",
        "\n",
        "#creating columns name\n",
        "search_terms.columns = search_terms.iloc[0]\n",
        "search_terms = search_terms.iloc[1:]\n",
        "\n",
        "search_terms.head()"
      ],
      "metadata": {
        "id": "LX513fczSgHZ"
      },
      "execution_count": null,
      "outputs": []
    },
    {
      "cell_type": "markdown",
      "source": [
        "**Stem and discover n-grams**"
      ],
      "metadata": {
        "id": "RwmrsGAhbiir"
      }
    },
    {
      "cell_type": "code",
      "source": [
        "import nltk\n",
        "nltk.download('punkt')\n",
        "nltk.download('punkt_tab')\n",
        "from nltk.stem import PorterStemmer\n",
        "from nltk.tokenize import word_tokenize\n",
        "import pandas as pd\n",
        "\n",
        "# Initialize the stemmer\n",
        "stemmer = PorterStemmer()\n",
        "\n",
        "# Define a function to stem words in the search terms\n",
        "def stem_text(text):\n",
        "    return ' '.join([stemmer.stem(word) for word in word_tokenize(text)])\n",
        "\n",
        "# Apply stemming to the search terms\n",
        "search_terms['Search term'] = search_terms['Search term'].apply(stem_text)\n",
        "\n",
        "# Define the n-gram range to include both bigrams and trigrams\n",
        "ngram_range = (2, 3)\n",
        "\n",
        "# Initialize the CountVectorizer\n",
        "vectorizer = CountVectorizer(ngram_range=ngram_range, stop_words='english')\n",
        "\n",
        "# Fit and transform the data\n",
        "X = vectorizer.fit_transform(search_terms['Search term'])\n",
        "\n",
        "# Convert to DataFrame for easier analysis\n",
        "ngram_df = pd.DataFrame(X.toarray(), columns=vectorizer.get_feature_names_out())\n",
        "\n",
        "# Sum the occurrences of each n-gram\n",
        "ngram_counts = ngram_df.sum().sort_values(ascending=False)\n",
        "\n",
        "print(ngram_counts)\n"
      ],
      "metadata": {
        "id": "cOdgiJCPbe63"
      },
      "execution_count": null,
      "outputs": []
    },
    {
      "cell_type": "markdown",
      "source": [
        "**Top 15 n-grams**"
      ],
      "metadata": {
        "id": "IomizpEZbYSE"
      }
    },
    {
      "cell_type": "code",
      "source": [
        "import matplotlib.pyplot as plt\n",
        "\n",
        "ngram_counts.head(15).sort_values().plot(kind='barh', figsize=(10, 5))\n",
        "plt.title('Top 15 n-grams')\n",
        "plt.xlabel('Frequency')\n",
        "plt.ylabel('n-grams')\n",
        "plt.show()"
      ],
      "metadata": {
        "id": "pgjXASVuhWY_"
      },
      "execution_count": null,
      "outputs": []
    },
    {
      "cell_type": "markdown",
      "source": [
        "**Export all to CSV**"
      ],
      "metadata": {
        "id": "qnE2mC645bS0"
      }
    },
    {
      "cell_type": "code",
      "source": [
        "# function to export n-grams to CSV\n",
        "from google.colab import files\n",
        "ngram_data = pd.DataFrame({'n-gram': ngram_counts.index, 'sum': ngram_counts.values})\n",
        "ngram_data.to_csv('n-grams.csv', index=False)\n",
        "files.download('n-grams.csv')"
      ],
      "metadata": {
        "colab": {
          "base_uri": "https://localhost:8080/",
          "height": 17
        },
        "id": "xkNJ8PRhaYSL",
        "outputId": "ee1dd4b2-e3b1-4b86-eb20-c20c087ad20b"
      },
      "execution_count": 8,
      "outputs": [
        {
          "output_type": "display_data",
          "data": {
            "text/plain": [
              "<IPython.core.display.Javascript object>"
            ],
            "application/javascript": [
              "\n",
              "    async function download(id, filename, size) {\n",
              "      if (!google.colab.kernel.accessAllowed) {\n",
              "        return;\n",
              "      }\n",
              "      const div = document.createElement('div');\n",
              "      const label = document.createElement('label');\n",
              "      label.textContent = `Downloading \"${filename}\": `;\n",
              "      div.appendChild(label);\n",
              "      const progress = document.createElement('progress');\n",
              "      progress.max = size;\n",
              "      div.appendChild(progress);\n",
              "      document.body.appendChild(div);\n",
              "\n",
              "      const buffers = [];\n",
              "      let downloaded = 0;\n",
              "\n",
              "      const channel = await google.colab.kernel.comms.open(id);\n",
              "      // Send a message to notify the kernel that we're ready.\n",
              "      channel.send({})\n",
              "\n",
              "      for await (const message of channel.messages) {\n",
              "        // Send a message to notify the kernel that we're ready.\n",
              "        channel.send({})\n",
              "        if (message.buffers) {\n",
              "          for (const buffer of message.buffers) {\n",
              "            buffers.push(buffer);\n",
              "            downloaded += buffer.byteLength;\n",
              "            progress.value = downloaded;\n",
              "          }\n",
              "        }\n",
              "      }\n",
              "      const blob = new Blob(buffers, {type: 'application/binary'});\n",
              "      const a = document.createElement('a');\n",
              "      a.href = window.URL.createObjectURL(blob);\n",
              "      a.download = filename;\n",
              "      div.appendChild(a);\n",
              "      a.click();\n",
              "      div.remove();\n",
              "    }\n",
              "  "
            ]
          },
          "metadata": {}
        },
        {
          "output_type": "display_data",
          "data": {
            "text/plain": [
              "<IPython.core.display.Javascript object>"
            ],
            "application/javascript": [
              "download(\"download_10548262-e903-41e7-9d5c-ed6d7c427bfe\", \"n-grams.csv\", 308575)"
            ]
          },
          "metadata": {}
        }
      ]
    }
  ]
}